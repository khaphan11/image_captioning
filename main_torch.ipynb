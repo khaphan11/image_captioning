{
 "cells": [
  {
   "cell_type": "code",
   "execution_count": 1,
   "metadata": {},
   "outputs": [],
   "source": [
    "import glob\n",
    "import pandas as pd\n",
    "import numpy as np\n",
    "import matplotlib.pyplot as plt\n",
    "from PIL import Image\n",
    "from time import time\n",
    "from numpy import array\n",
    "\n",
    "df = pd.read_csv(\"train/captions.txt\")"
   ]
  },
  {
   "cell_type": "code",
   "execution_count": 2,
   "metadata": {},
   "outputs": [
    {
     "name": "stdout",
     "output_type": "stream",
     "text": [
      "40455 (32364, 2) (8091, 2)\n"
     ]
    },
    {
     "name": "stderr",
     "output_type": "stream",
     "text": [
      "/home/dniit/.local/lib/python3.10/site-packages/numpy/core/fromnumeric.py:59: FutureWarning: 'DataFrame.swapaxes' is deprecated and will be removed in a future version. Please use 'DataFrame.transpose' instead.\n",
      "  return bound(*args, **kwds)\n"
     ]
    }
   ],
   "source": [
    "train, val = np.split(df.sample( frac=1,random_state=42), [int(.8*len(df)),])\n",
    "print(len(df), train.shape, val.shape)"
   ]
  },
  {
   "cell_type": "code",
   "execution_count": 3,
   "metadata": {},
   "outputs": [],
   "source": [
    "image_path = 'train/Images/'"
   ]
  },
  {
   "cell_type": "code",
   "execution_count": 4,
   "metadata": {},
   "outputs": [
    {
     "name": "stdout",
     "output_type": "stream",
     "text": [
      "startseq chao ban its a table endseq\n"
     ]
    }
   ],
   "source": [
    "import re\n",
    "def caption_preprocessing(text, remove_digits=True):\n",
    "    pattern=r'[^a-zA-z0-9\\s]'\n",
    "    text=re.sub(pattern,'',text)\n",
    "    # tokenize\n",
    "    text=text.split()\n",
    "    # convert to lower case\n",
    "    text = [word.lower() for word in text]\n",
    "    # remove hanging 's' and 'a'\n",
    "    # text = [word for word in text if len(word)>1]\n",
    "\n",
    "    # remove tokens with numbers in them\n",
    "    text = [word for word in text if word.isalpha()]\n",
    "    # store as string\n",
    "    text =  ' '.join(text)\n",
    "\n",
    "    # insert 'startseq', 'endseq' cho chuỗi\n",
    "    text = 'startseq ' + text + ' endseq'\n",
    "    return text\n",
    "\n",
    "print(caption_preprocessing('chao .. ban $ hello980 it\\'s a table.#'))"
   ]
  },
  {
   "cell_type": "code",
   "execution_count": 5,
   "metadata": {},
   "outputs": [],
   "source": [
    "df['caption'] = df['caption'].apply(caption_preprocessing)"
   ]
  },
  {
   "cell_type": "code",
   "execution_count": 6,
   "metadata": {},
   "outputs": [
    {
     "name": "stdout",
     "output_type": "stream",
     "text": [
      "8777\n",
      "37\n"
     ]
    }
   ],
   "source": [
    "word_counts = {}\n",
    "max_length = 0\n",
    "for text in df['caption']:\n",
    "  words = text.split()\n",
    "  max_length = len(words) if (max_length < len(words)) else max_length\n",
    "  for w in words:\n",
    "    try:\n",
    "      word_counts[w] +=1\n",
    "    except:\n",
    "        word_counts[w] = 1\n",
    "print(len(word_counts))\n",
    "print(max_length)"
   ]
  },
  {
   "cell_type": "code",
   "execution_count": 7,
   "metadata": {},
   "outputs": [
    {
     "name": "stdout",
     "output_type": "stream",
     "text": [
      "preprocessed words 8777 -> 1952\n"
     ]
    }
   ],
   "source": [
    "# Chỉ lấy các từ xuất hiện trên 10 lần\n",
    "word_count_threshold = 10\n",
    "vocab = [w for w in word_counts if word_counts[w] >= word_count_threshold]\n",
    "print('preprocessed words %d -> %d' % (len(word_counts), len(vocab)))"
   ]
  },
  {
   "cell_type": "code",
   "execution_count": 8,
   "metadata": {},
   "outputs": [],
   "source": [
    "embedding_dim = 200\n",
    "vocab_size = len(vocab) + 1 # thêm 1 padding"
   ]
  },
  {
   "cell_type": "code",
   "execution_count": 9,
   "metadata": {},
   "outputs": [
    {
     "name": "stderr",
     "output_type": "stream",
     "text": [
      "2024-04-12 15:00:04.616719: I tensorflow/core/platform/cpu_feature_guard.cc:193] This TensorFlow binary is optimized with oneAPI Deep Neural Network Library (oneDNN) to use the following CPU instructions in performance-critical operations:  AVX2 FMA\n",
      "To enable them in other operations, rebuild TensorFlow with the appropriate compiler flags.\n",
      "2024-04-12 15:00:04.794780: E tensorflow/stream_executor/cuda/cuda_blas.cc:2981] Unable to register cuBLAS factory: Attempting to register factory for plugin cuBLAS when one has already been registered\n",
      "2024-04-12 15:00:05.523619: W tensorflow/stream_executor/platform/default/dso_loader.cc:64] Could not load dynamic library 'libnvinfer.so.7'; dlerror: libnvinfer.so.7: cannot open shared object file: No such file or directory; LD_LIBRARY_PATH: /usr/local/cuda-11.8/lib64:\n",
      "2024-04-12 15:00:05.523720: W tensorflow/stream_executor/platform/default/dso_loader.cc:64] Could not load dynamic library 'libnvinfer_plugin.so.7'; dlerror: libnvinfer_plugin.so.7: cannot open shared object file: No such file or directory; LD_LIBRARY_PATH: /usr/local/cuda-11.8/lib64:\n",
      "2024-04-12 15:00:05.523728: W tensorflow/compiler/tf2tensorrt/utils/py_utils.cc:38] TF-TRT Warning: Cannot dlopen some TensorRT libraries. If you would like to use Nvidia GPU with TensorRT, please make sure the missing libraries mentioned above are installed properly.\n"
     ]
    }
   ],
   "source": [
    "from ImageDataset import ImageDataset\n",
    "\n",
    "dataset = ImageDataset(max_length, vocab_size)"
   ]
  },
  {
   "cell_type": "code",
   "execution_count": 10,
   "metadata": {},
   "outputs": [
    {
     "name": "stderr",
     "output_type": "stream",
     "text": [
      "/home/dniit/ai_code/image_captioning/ImageDataset.py:50: UserWarning: Creating a tensor from a list of numpy.ndarrays is extremely slow. Please consider converting the list to a single numpy.ndarray with numpy.array() before converting to a tensor. (Triggered internally at ../torch/csrc/utils/tensor_new.cpp:275.)\n",
      "  return [torch.Tensor(x_image), torch.Tensor(x_cap).to(torch.int64)], torch.Tensor(y)\n"
     ]
    }
   ],
   "source": [
    "image_shape = (len(dataset[0][0][0][0]), )"
   ]
  },
  {
   "cell_type": "code",
   "execution_count": 11,
   "metadata": {},
   "outputs": [],
   "source": [
    "from torch.utils.data import DataLoader, Dataset\n",
    "\n",
    "def generate_batches(dataset: Dataset,\n",
    "                     batch_size: int,\n",
    "                     shuffle: bool=True,\n",
    "                     drop_last: bool=True) -> DataLoader:\n",
    "    \"\"\"\"\"\"\n",
    "    return DataLoader(dataset=dataset, batch_size=batch_size,\n",
    "                      shuffle=shuffle, drop_last=drop_last)\n",
    "\n",
    "\n",
    "batches = generate_batches(dataset, 16)"
   ]
  },
  {
   "cell_type": "code",
   "execution_count": 12,
   "metadata": {},
   "outputs": [],
   "source": [
    "from ImageCaptioningModel import ImageCaptioningModel\n",
    "\n",
    "model = ImageCaptioningModel(image_shape=image_shape,\n",
    "                             max_length=max_length,\n",
    "                             vocab_size=vocab_size,\n",
    "                             embedding_dim=embedding_dim)"
   ]
  },
  {
   "cell_type": "code",
   "execution_count": 13,
   "metadata": {},
   "outputs": [
    {
     "data": {
      "text/plain": [
       "<generator object Module.parameters at 0x7f1d4a5f3680>"
      ]
     },
     "execution_count": 13,
     "metadata": {},
     "output_type": "execute_result"
    }
   ],
   "source": [
    "model.parameters()"
   ]
  },
  {
   "cell_type": "code",
   "execution_count": 16,
   "metadata": {},
   "outputs": [],
   "source": [
    "!export LD_LIBRARY_PATH=/usr/local/cuda/lib64:$LD_LIBRARY_PATH export"
   ]
  },
  {
   "cell_type": "code",
   "execution_count": 17,
   "metadata": {},
   "outputs": [],
   "source": [
    "import torch.optim as optim\n",
    "import torch.nn as nn\n",
    "import torch\n",
    "\n",
    "device = 'cuda'\n",
    "model = model.to(device)\n",
    "# model.load_state_dict(torch.load('weights_40epoches.h5'))\n",
    "optimizer = optim.Adam(model.parameters(), lr=0.0001)\n",
    "scheduler = optim.lr_scheduler.ReduceLROnPlateau(optimizer=optimizer,\n",
    "                                                 mode='min', factor=0.8,\n",
    "                                                 patience=1)\n",
    "loss_func = nn.CrossEntropyLoss()"
   ]
  },
  {
   "cell_type": "code",
   "execution_count": 18,
   "metadata": {},
   "outputs": [
    {
     "name": "stdout",
     "output_type": "stream",
     "text": [
      "Epoch 1/5\n",
      "----------\n",
      "Phase: train\n"
     ]
    },
    {
     "name": "stderr",
     "output_type": "stream",
     "text": [
      "1544it [1:38:32,  3.83s/it]"
     ]
    }
   ],
   "source": [
    "from tqdm import tqdm\n",
    "\n",
    "phases = ['train', 'validation']\n",
    "losses = {}\n",
    "accuracies = {}\n",
    "num_epochs = 5\n",
    "# device = 'cuda'\n",
    "\n",
    "for epoch in range(num_epochs):\n",
    "    print('Epoch {}/{}'.format(epoch+1, num_epochs))\n",
    "    print('-' * 10)\n",
    "\n",
    "    for phase in phases:\n",
    "        print('Phase:', phase)\n",
    "        if phase == 'train':\n",
    "            # scheduler.step()\n",
    "            model.train()\n",
    "        else:\n",
    "            model.eval()\n",
    "            break\n",
    "\n",
    "        running_loss = 0.0\n",
    "        running_corrects = 0\n",
    "\n",
    "        for inputs, labels in tqdm(dataset.get_batch(128)):\n",
    "            inputs = [input_.to(device) for input_ in inputs]\n",
    "            # inputs = inputs.to(device)\n",
    "            labels = labels.to(device)\n",
    "\n",
    "            outputs = model(inputs)\n",
    "            loss = loss_func(outputs, labels)\n",
    "\n",
    "            if phase == 'train':\n",
    "                optimizer.zero_grad()\n",
    "                loss.backward()\n",
    "                optimizer.step()\n",
    "                # scheduler.step(loss)\n",
    "\n",
    "            _, preds = torch.max(outputs, 1)\n",
    "            _, trues = torch.max(labels, 1)\n",
    "            running_loss += loss.detach() * inputs[0].size(0)\n",
    "            running_corrects += torch.sum(preds == trues)\n",
    "\n",
    "        epoch_loss = running_loss / len(dataset)\n",
    "        epoch_acc = running_corrects.float() / len(dataset)\n",
    "\n",
    "        losses[phase].append(epoch_loss.item())\n",
    "        accuracies[phase].append(epoch_acc.item())\n",
    "\n",
    "        # log_metric(f'{phase}_loss', epoch_loss, epoch)\n",
    "        # log_metric(f'{phase}_accuracy', float(epoch_acc), epoch)\n",
    "\n",
    "        print('{} loss: {:.4f}, acc: {:.4f}'.format(phase,\n",
    "                                                    epoch_loss.item(),\n",
    "                                                    epoch_acc.item()))"
   ]
  }
 ],
 "metadata": {
  "kernelspec": {
   "display_name": "Python 3",
   "language": "python",
   "name": "python3"
  },
  "language_info": {
   "codemirror_mode": {
    "name": "ipython",
    "version": 3
   },
   "file_extension": ".py",
   "mimetype": "text/x-python",
   "name": "python",
   "nbconvert_exporter": "python",
   "pygments_lexer": "ipython3",
   "version": "3.10.12"
  }
 },
 "nbformat": 4,
 "nbformat_minor": 2
}
